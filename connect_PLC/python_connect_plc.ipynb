{
 "cells": [
  {
   "cell_type": "code",
   "execution_count": 8,
   "metadata": {},
   "outputs": [
    {
     "name": "stdout",
     "output_type": "stream",
     "text": [
      "Requirement already satisfied: opcua in c:\\users\\magic\\appdata\\local\\programs\\python\\python38\\lib\\site-packages (0.98.13)\n",
      "Requirement already satisfied: lxml in c:\\users\\magic\\appdata\\local\\programs\\python\\python38\\lib\\site-packages (from opcua) (5.1.0)\n",
      "Requirement already satisfied: python-dateutil in c:\\users\\magic\\appdata\\local\\programs\\python\\python38\\lib\\site-packages (from opcua) (2.8.2)\n",
      "Requirement already satisfied: pytz in c:\\users\\magic\\appdata\\local\\programs\\python\\python38\\lib\\site-packages (from opcua) (2023.4)\n",
      "Requirement already satisfied: six>=1.5 in c:\\users\\magic\\appdata\\local\\programs\\python\\python38\\lib\\site-packages (from python-dateutil->opcua) (1.16.0)\n"
     ]
    },
    {
     "name": "stderr",
     "output_type": "stream",
     "text": [
      "WARNING: Ignoring invalid distribution -ip (c:\\users\\magic\\appdata\\local\\programs\\python\\python38\\lib\\site-packages)\n",
      "WARNING: Ignoring invalid distribution -ip (c:\\users\\magic\\appdata\\local\\programs\\python\\python38\\lib\\site-packages)\n",
      "WARNING: Ignoring invalid distribution -ip (c:\\users\\magic\\appdata\\local\\programs\\python\\python38\\lib\\site-packages)\n"
     ]
    }
   ],
   "source": [
    "! pip install  opcua"
   ]
  },
  {
   "cell_type": "code",
   "execution_count": 11,
   "metadata": {},
   "outputs": [
    {
     "name": "stderr",
     "output_type": "stream",
     "text": [
      "Requested session timeout to be 3600000ms, got 60000ms instead\n"
     ]
    },
    {
     "name": "stdout",
     "output_type": "stream",
     "text": [
      "Connected to Kepware OPC UA Server\n",
      "Requested session timeout: 3600000ms, actual timeout: 60000.0ms\n",
      "Disconnected from Kepware OPC UA Server\n"
     ]
    }
   ],
   "source": [
    "# kết nối đến máy chủ OPC UA - \n",
    "from opcua import Client\n",
    "\n",
    "# Địa chỉ OPC UA của Kepware\n",
    "url = \"opc.tcp://127.0.0.1:49320\"\n",
    "client = Client(url)\n",
    "\n",
    "try:\n",
    "    # Kết nối đến máy chủ\n",
    "    client.connect()\n",
    "    print(\"Connected to Kepware OPC UA Server\")\n",
    "\n",
    "    # Kiểm tra session timeout để xác nhận\n",
    "    actual_timeout = client.session_timeout\n",
    "    print(\n",
    "        f\"Requested session timeout: 3600000ms, actual timeout: {actual_timeout}ms\")\n",
    "\n",
    "except Exception as e:\n",
    "    print(\"Lỗi khi kết nối:\", e)\n",
    "\n",
    "finally:\n",
    "    # Ngắt kết nối\n",
    "    client.disconnect()\n",
    "    print(\"Disconnected from Kepware OPC UA Server\")"
   ]
  },
  {
   "cell_type": "code",
   "execution_count": 3,
   "metadata": {},
   "outputs": [
    {
     "name": "stderr",
     "output_type": "stream",
     "text": [
      "Requested session timeout to be 3600000ms, got 60000ms instead\n"
     ]
    },
    {
     "name": "stdout",
     "output_type": "stream",
     "text": [
      "Connected to Kepware OPC UA Server\n",
      "Value written to X0: False\n"
     ]
    }
   ],
   "source": [
    "# ghi giá trị vào node tag X0\n",
    "from opcua import Client, ua\n",
    "\n",
    "# Địa chỉ OPC UA của Kepware\n",
    "url = \"opc.tcp://127.0.0.1:49320\"\n",
    "client = Client(url)\n",
    "\n",
    "# Kết nối đến máy chủ\n",
    "client.connect()\n",
    "print(\"Connected to Kepware OPC UA Server\")\n",
    "# Lấy node của X0 để thực hiện ghi giá trị\n",
    "x0_node = client.get_node(\"ns=2;s=Channel1.Device1.X0\")\n",
    "write_value = False  #  True hoặc False\n",
    "x0_node.set_value(ua.DataValue(ua.Variant(\n",
    "    write_value, ua.VariantType.Boolean)))\n",
    "print(f\"Value written to X0: {write_value}\")"
   ]
  },
  {
   "cell_type": "code",
   "execution_count": 10,
   "metadata": {},
   "outputs": [
    {
     "name": "stderr",
     "output_type": "stream",
     "text": [
      "Requested session timeout to be 3600000ms, got 60000ms instead\n"
     ]
    },
    {
     "name": "stdout",
     "output_type": "stream",
     "text": [
      "Connected to Kepware OPC UA Server\n",
      "Current value of D100: 0\n"
     ]
    }
   ],
   "source": [
    "from opcua import Client, ua\n",
    "\n",
    "# Địa chỉ OPC UA của Kepware\n",
    "url = \"opc.tcp://127.0.0.1:49320\"\n",
    "client = Client(url)\n",
    "\n",
    "\n",
    "# Kết nối đến máy chủ\n",
    "client.connect()\n",
    "print(\"Connected to Kepware OPC UA Server\")\n",
    "\n",
    "# Đọc giá trị của node D100\n",
    "d100_node = client.get_node(\n",
    "    \"ns=2;s=Channel1.Device1.D100\")  # Chỉ định node cho D100\n",
    "d100_value = d100_node.get_value()\n",
    "print(\"Current value of D100:\", d100_value)\n",
    "\n"
   ]
  },
  {
   "cell_type": "code",
   "execution_count": 11,
   "metadata": {},
   "outputs": [
    {
     "name": "stderr",
     "output_type": "stream",
     "text": [
      "Requested session timeout to be 3600000ms, got 60000ms instead\n"
     ]
    },
    {
     "name": "stdout",
     "output_type": "stream",
     "text": [
      "Connected to Kepware OPC UA Server\n"
     ]
    },
    {
     "ename": "BadTypeMismatch",
     "evalue": "\"The value supplied for the attribute is not of the same type as the attribute\"s value.\"(BadTypeMismatch)",
     "output_type": "error",
     "traceback": [
      "\u001b[1;31m---------------------------------------------------------------------------\u001b[0m",
      "\u001b[1;31mBadTypeMismatch\u001b[0m                           Traceback (most recent call last)",
      "Cell \u001b[1;32mIn[11], line 18\u001b[0m\n\u001b[0;32m     15\u001b[0m write_value \u001b[38;5;241m=\u001b[39m \u001b[38;5;241m123\u001b[39m  \u001b[38;5;66;03m# Thay đổi giá trị tùy ý\u001b[39;00m\n\u001b[0;32m     17\u001b[0m \u001b[38;5;66;03m# Ghi giá trị vào D100\u001b[39;00m\n\u001b[1;32m---> 18\u001b[0m \u001b[43md100_node\u001b[49m\u001b[38;5;241;43m.\u001b[39;49m\u001b[43mset_value\u001b[49m\u001b[43m(\u001b[49m\u001b[43mua\u001b[49m\u001b[38;5;241;43m.\u001b[39;49m\u001b[43mDataValue\u001b[49m\u001b[43m(\u001b[49m\n\u001b[0;32m     19\u001b[0m \u001b[43m    \u001b[49m\u001b[43mua\u001b[49m\u001b[38;5;241;43m.\u001b[39;49m\u001b[43mVariant\u001b[49m\u001b[43m(\u001b[49m\u001b[43mwrite_value\u001b[49m\u001b[43m,\u001b[49m\u001b[43m \u001b[49m\u001b[43mua\u001b[49m\u001b[38;5;241;43m.\u001b[39;49m\u001b[43mVariantType\u001b[49m\u001b[38;5;241;43m.\u001b[39;49m\u001b[43mUInt32\u001b[49m\u001b[43m)\u001b[49m\u001b[43m)\u001b[49m\u001b[43m)\u001b[49m\n\u001b[0;32m     20\u001b[0m \u001b[38;5;28mprint\u001b[39m(\u001b[38;5;124mf\u001b[39m\u001b[38;5;124m\"\u001b[39m\u001b[38;5;124mValue written to D100: \u001b[39m\u001b[38;5;132;01m{\u001b[39;00mwrite_value\u001b[38;5;132;01m}\u001b[39;00m\u001b[38;5;124m\"\u001b[39m)\n\u001b[0;32m     22\u001b[0m \u001b[38;5;66;03m# Đóng kết nối\u001b[39;00m\n",
      "File \u001b[1;32mc:\\Users\\magic\\AppData\\Local\\Programs\\Python\\Python38\\lib\\site-packages\\opcua\\common\\node.py:217\u001b[0m, in \u001b[0;36mNode.set_value\u001b[1;34m(self, value, varianttype)\u001b[0m\n\u001b[0;32m    215\u001b[0m     datavalue \u001b[38;5;241m=\u001b[39m ua\u001b[38;5;241m.\u001b[39mDataValue(ua\u001b[38;5;241m.\u001b[39mVariant(value, varianttype))\n\u001b[0;32m    216\u001b[0m     datavalue\u001b[38;5;241m.\u001b[39mSourceTimestamp \u001b[38;5;241m=\u001b[39m datetime\u001b[38;5;241m.\u001b[39mutcnow()\n\u001b[1;32m--> 217\u001b[0m \u001b[38;5;28;43mself\u001b[39;49m\u001b[38;5;241;43m.\u001b[39;49m\u001b[43mset_attribute\u001b[49m\u001b[43m(\u001b[49m\u001b[43mua\u001b[49m\u001b[38;5;241;43m.\u001b[39;49m\u001b[43mAttributeIds\u001b[49m\u001b[38;5;241;43m.\u001b[39;49m\u001b[43mValue\u001b[49m\u001b[43m,\u001b[49m\u001b[43m \u001b[49m\u001b[43mdatavalue\u001b[49m\u001b[43m)\u001b[49m\n",
      "File \u001b[1;32mc:\\Users\\magic\\AppData\\Local\\Programs\\Python\\Python38\\lib\\site-packages\\opcua\\common\\node.py:263\u001b[0m, in \u001b[0;36mNode.set_attribute\u001b[1;34m(self, attributeid, datavalue)\u001b[0m\n\u001b[0;32m    261\u001b[0m params\u001b[38;5;241m.\u001b[39mNodesToWrite \u001b[38;5;241m=\u001b[39m [attr]\n\u001b[0;32m    262\u001b[0m result \u001b[38;5;241m=\u001b[39m \u001b[38;5;28mself\u001b[39m\u001b[38;5;241m.\u001b[39mserver\u001b[38;5;241m.\u001b[39mwrite(params)\n\u001b[1;32m--> 263\u001b[0m \u001b[43mresult\u001b[49m\u001b[43m[\u001b[49m\u001b[38;5;241;43m0\u001b[39;49m\u001b[43m]\u001b[49m\u001b[38;5;241;43m.\u001b[39;49m\u001b[43mcheck\u001b[49m\u001b[43m(\u001b[49m\u001b[43m)\u001b[49m\n",
      "File \u001b[1;32mc:\\Users\\magic\\AppData\\Local\\Programs\\Python\\Python38\\lib\\site-packages\\opcua\\ua\\uatypes.py:218\u001b[0m, in \u001b[0;36mStatusCode.check\u001b[1;34m(self)\u001b[0m\n\u001b[0;32m    212\u001b[0m \u001b[38;5;250m\u001b[39m\u001b[38;5;124;03m\"\"\"\u001b[39;00m\n\u001b[0;32m    213\u001b[0m \u001b[38;5;124;03mRaises an exception if the status code is anything else than 0 (good).\u001b[39;00m\n\u001b[0;32m    214\u001b[0m \n\u001b[0;32m    215\u001b[0m \u001b[38;5;124;03mUse the is_good() method if you do not want an exception.\u001b[39;00m\n\u001b[0;32m    216\u001b[0m \u001b[38;5;124;03m\"\"\"\u001b[39;00m\n\u001b[0;32m    217\u001b[0m \u001b[38;5;28;01mif\u001b[39;00m \u001b[38;5;129;01mnot\u001b[39;00m \u001b[38;5;28mself\u001b[39m\u001b[38;5;241m.\u001b[39mis_good():\n\u001b[1;32m--> 218\u001b[0m     \u001b[38;5;28;01mraise\u001b[39;00m UaStatusCodeError(\u001b[38;5;28mself\u001b[39m\u001b[38;5;241m.\u001b[39mvalue)\n",
      "\u001b[1;31mBadTypeMismatch\u001b[0m: \"The value supplied for the attribute is not of the same type as the attribute\"s value.\"(BadTypeMismatch)"
     ]
    }
   ],
   "source": [
    "from opcua import Client, ua\n",
    "\n",
    "# Địa chỉ OPC UA của Kepware\n",
    "url = \"opc.tcp://127.0.0.1:49320\"\n",
    "client = Client(url)\n",
    "\n",
    "# Kết nối đến máy chủ\n",
    "client.connect()\n",
    "print(\"Connected to Kepware OPC UA Server\")\n",
    "\n",
    "# Lấy node của D100 để thực hiện ghi giá trị\n",
    "d100_node = client.get_node(\"ns=2;s=Channel1.Device1.D100\")\n",
    "\n",
    "# Giá trị bạn muốn ghi vào D100\n",
    "write_value = 123  # Thay đổi giá trị tùy ý\n",
    "\n",
    "# Ghi giá trị vào D100\n",
    "d100_node.set_value(ua.DataValue(\n",
    "    ua.Variant(write_value, ua.VariantType.UInt32)))\n",
    "print(f\"Value written to D100: {write_value}\")\n",
    "\n",
    "# Đóng kết nối\n",
    "client.disconnect()"
   ]
  }
 ],
 "metadata": {
  "kernelspec": {
   "display_name": "Python 3",
   "language": "python",
   "name": "python3"
  },
  "language_info": {
   "codemirror_mode": {
    "name": "ipython",
    "version": 3
   },
   "file_extension": ".py",
   "mimetype": "text/x-python",
   "name": "python",
   "nbconvert_exporter": "python",
   "pygments_lexer": "ipython3",
   "version": "3.8.0"
  }
 },
 "nbformat": 4,
 "nbformat_minor": 2
}
