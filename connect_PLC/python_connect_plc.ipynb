{
 "cells": [
  {
   "cell_type": "code",
   "execution_count": 8,
   "metadata": {},
   "outputs": [
    {
     "name": "stdout",
     "output_type": "stream",
     "text": [
      "Requirement already satisfied: opcua in c:\\users\\magic\\appdata\\local\\programs\\python\\python38\\lib\\site-packages (0.98.13)\n",
      "Requirement already satisfied: lxml in c:\\users\\magic\\appdata\\local\\programs\\python\\python38\\lib\\site-packages (from opcua) (5.1.0)\n",
      "Requirement already satisfied: python-dateutil in c:\\users\\magic\\appdata\\local\\programs\\python\\python38\\lib\\site-packages (from opcua) (2.8.2)\n",
      "Requirement already satisfied: pytz in c:\\users\\magic\\appdata\\local\\programs\\python\\python38\\lib\\site-packages (from opcua) (2023.4)\n",
      "Requirement already satisfied: six>=1.5 in c:\\users\\magic\\appdata\\local\\programs\\python\\python38\\lib\\site-packages (from python-dateutil->opcua) (1.16.0)\n"
     ]
    },
    {
     "name": "stderr",
     "output_type": "stream",
     "text": [
      "WARNING: Ignoring invalid distribution -ip (c:\\users\\magic\\appdata\\local\\programs\\python\\python38\\lib\\site-packages)\n",
      "WARNING: Ignoring invalid distribution -ip (c:\\users\\magic\\appdata\\local\\programs\\python\\python38\\lib\\site-packages)\n",
      "WARNING: Ignoring invalid distribution -ip (c:\\users\\magic\\appdata\\local\\programs\\python\\python38\\lib\\site-packages)\n"
     ]
    }
   ],
   "source": [
    "! pip install  opcua"
   ]
  },
  {
   "cell_type": "code",
   "execution_count": 11,
   "metadata": {},
   "outputs": [
    {
     "name": "stderr",
     "output_type": "stream",
     "text": [
      "Requested session timeout to be 3600000ms, got 60000ms instead\n"
     ]
    },
    {
     "name": "stdout",
     "output_type": "stream",
     "text": [
      "Connected to Kepware OPC UA Server\n",
      "Requested session timeout: 3600000ms, actual timeout: 60000.0ms\n",
      "Disconnected from Kepware OPC UA Server\n"
     ]
    }
   ],
   "source": [
    "# kết nối đến máy chủ OPC UA - \n",
    "from opcua import Client\n",
    "\n",
    "# Địa chỉ OPC UA của Kepware\n",
    "url = \"opc.tcp://127.0.0.1:49320\"\n",
    "client = Client(url)\n",
    "\n",
    "try:\n",
    "    # Kết nối đến máy chủ\n",
    "    client.connect()\n",
    "    print(\"Connected to Kepware OPC UA Server\")\n",
    "\n",
    "    # Kiểm tra session timeout để xác nhận\n",
    "    actual_timeout = client.session_timeout\n",
    "    print(\n",
    "        f\"Requested session timeout: 3600000ms, actual timeout: {actual_timeout}ms\")\n",
    "\n",
    "except Exception as e:\n",
    "    print(\"Lỗi khi kết nối:\", e)\n",
    "\n",
    "finally:\n",
    "    # Ngắt kết nối\n",
    "    client.disconnect()\n",
    "    print(\"Disconnected from Kepware OPC UA Server\")"
   ]
  },
  {
   "cell_type": "code",
   "execution_count": 4,
   "metadata": {},
   "outputs": [
    {
     "name": "stderr",
     "output_type": "stream",
     "text": [
      "Requested session timeout to be 3600000ms, got 60000ms instead\n"
     ]
    },
    {
     "name": "stdout",
     "output_type": "stream",
     "text": [
      "Connected to Kepware OPC UA Server\n",
      "Value written to X0: False\n"
     ]
    }
   ],
   "source": [
    "# ghi giá trị vào node tag X0\n",
    "from opcua import Client, ua\n",
    "\n",
    "# Địa chỉ OPC UA của Kepware\n",
    "url = \"opc.tcp://127.0.0.1:49320\"\n",
    "client = Client(url)\n",
    "\n",
    "# Kết nối đến máy chủ\n",
    "client.connect()\n",
    "print(\"Connected to Kepware OPC UA Server\")\n",
    "# Lấy node của X0 để thực hiện ghi giá trị\n",
    "x0_node = client.get_node(\"ns=2;s=Channel1.Device1.X0\")\n",
    "write_value = False  #  True hoặc False\n",
    "x0_node.set_value(ua.DataValue(ua.Variant(\n",
    "    write_value, ua.VariantType.Boolean)))\n",
    "print(f\"Value written to X0: {write_value}\")"
   ]
  },
  {
   "cell_type": "code",
   "execution_count": 6,
   "metadata": {},
   "outputs": [
    {
     "name": "stderr",
     "output_type": "stream",
     "text": [
      "Requested session timeout to be 3600000ms, got 60000ms instead\n"
     ]
    },
    {
     "name": "stdout",
     "output_type": "stream",
     "text": [
      "Connected to Kepware OPC UA Server\n",
      "Current value of D100: 50\n"
     ]
    }
   ],
   "source": [
    "from opcua import Client, ua\n",
    "\n",
    "# Địa chỉ OPC UA của Kepware\n",
    "url = \"opc.tcp://127.0.0.1:49320\"\n",
    "client = Client(url)\n",
    "\n",
    "\n",
    "# Kết nối đến máy chủ\n",
    "client.connect()\n",
    "print(\"Connected to Kepware OPC UA Server\")\n",
    "\n",
    "# Đọc giá trị của node D100\n",
    "d100_node = client.get_node(\n",
    "    \"ns=2;s=Channel1.Device1.D100\")  # Chỉ định node cho D100\n",
    "d100_value = d100_node.get_value()\n",
    "print(\"Current value of D100:\", d100_value)\n",
    "\n"
   ]
  }
 ],
 "metadata": {
  "kernelspec": {
   "display_name": "Python 3",
   "language": "python",
   "name": "python3"
  },
  "language_info": {
   "codemirror_mode": {
    "name": "ipython",
    "version": 3
   },
   "file_extension": ".py",
   "mimetype": "text/x-python",
   "name": "python",
   "nbconvert_exporter": "python",
   "pygments_lexer": "ipython3",
   "version": "3.8.0"
  }
 },
 "nbformat": 4,
 "nbformat_minor": 2
}
